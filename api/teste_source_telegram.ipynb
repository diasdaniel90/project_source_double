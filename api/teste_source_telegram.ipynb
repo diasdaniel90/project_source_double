{
 "cells": [
  {
   "cell_type": "code",
   "execution_count": 6,
   "metadata": {},
   "outputs": [],
   "source": [
    "import re"
   ]
  },
  {
   "cell_type": "code",
   "execution_count": 17,
   "metadata": {},
   "outputs": [
    {
     "name": "stdout",
     "output_type": "stream",
     "text": [
      "é sinal\n",
      "preto\n"
     ]
    }
   ],
   "source": [
    "event=\"ENTRAR PRETO ⚫⚪\"\n",
    "strs = re.sub(r\"[^a-zA-Z0-9🔴⚪️ ⚫️\\n]\",\"\",event)\n",
    "if re.search('entre', strs,re.IGNORECASE) or re.search('entrar', strs,re.IGNORECASE):   \n",
    "    print(\"é sinal\")\n",
    "    if re.search('vermelho', strs,re.IGNORECASE):\n",
    "        print(\"vermelho\")\n",
    "    elif re.search('preto', strs,re.IGNORECASE):\n",
    "        print(\"preto\")\n",
    "    else:\n",
    "        print(strs)\n",
    "        print(\"########not sinal##########\")"
   ]
  }
 ],
 "metadata": {
  "kernelspec": {
   "display_name": ".venv_bet",
   "language": "python",
   "name": "python3"
  },
  "language_info": {
   "codemirror_mode": {
    "name": "ipython",
    "version": 3
   },
   "file_extension": ".py",
   "mimetype": "text/x-python",
   "name": "python",
   "nbconvert_exporter": "python",
   "pygments_lexer": "ipython3",
   "version": "3.9.2"
  },
  "orig_nbformat": 4
 },
 "nbformat": 4,
 "nbformat_minor": 2
}
