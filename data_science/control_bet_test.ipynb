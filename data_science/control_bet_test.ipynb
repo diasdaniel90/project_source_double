{
 "cells": [
  {
   "cell_type": "code",
   "execution_count": 56,
   "metadata": {},
   "outputs": [],
   "source": [
    "import mysql.connector\n",
    "import pandas as pd\n",
    "config = {\n",
    "  'user': 'doispontos',\n",
    "  'password': 'cavaLO402b',\n",
    "  'host': 'brigos.com.br',\n",
    "  'database': 'source_double',\n",
    "  'port': 61690\n",
    "}\n",
    "conn = mysql.connector.connect(**config)\n"
   ]
  },
  {
   "cell_type": "code",
   "execution_count": 57,
   "metadata": {},
   "outputs": [
    {
     "name": "stderr",
     "output_type": "stream",
     "text": [
      "/tmp/ipykernel_328307/825494395.py:2: UserWarning: pandas only supports SQLAlchemy connectable (engine/connection) or database string URI or sqlite3 DBAPI2 connection. Other DBAPI2 objects are not tested. Please consider using SQLAlchemy.\n",
      "  df = pd.read_sql(query, conn)\n"
     ]
    }
   ],
   "source": [
    "query = 'SELECT *FROM source_double.api_gocontrolbetresult;'\n",
    "df = pd.read_sql(query, conn)"
   ]
  },
  {
   "cell_type": "code",
   "execution_count": 58,
   "metadata": {},
   "outputs": [
    {
     "data": {
      "text/html": [
       "<div>\n",
       "<style scoped>\n",
       "    .dataframe tbody tr th:only-of-type {\n",
       "        vertical-align: middle;\n",
       "    }\n",
       "\n",
       "    .dataframe tbody tr th {\n",
       "        vertical-align: top;\n",
       "    }\n",
       "\n",
       "    .dataframe thead th {\n",
       "        text-align: right;\n",
       "    }\n",
       "</style>\n",
       "<table border=\"1\" class=\"dataframe\">\n",
       "  <thead>\n",
       "    <tr style=\"text-align: right;\">\n",
       "      <th></th>\n",
       "      <th>id</th>\n",
       "      <th>ID_bet</th>\n",
       "      <th>timestamp</th>\n",
       "      <th>timestamp_signal</th>\n",
       "      <th>color</th>\n",
       "      <th>source</th>\n",
       "      <th>win</th>\n",
       "      <th>status</th>\n",
       "      <th>gale</th>\n",
       "      <th>amount</th>\n",
       "      <th>balanceWin</th>\n",
       "    </tr>\n",
       "  </thead>\n",
       "  <tbody>\n",
       "    <tr>\n",
       "      <th>0</th>\n",
       "      <td>1</td>\n",
       "      <td>qlPe6yb5rz</td>\n",
       "      <td>1.682491e+09</td>\n",
       "      <td>1.682491e+09</td>\n",
       "      <td>1</td>\n",
       "      <td>1755113665</td>\n",
       "      <td>0</td>\n",
       "      <td>simulado</td>\n",
       "      <td>0</td>\n",
       "      <td>2.0</td>\n",
       "      <td>-1.0</td>\n",
       "    </tr>\n",
       "    <tr>\n",
       "      <th>1</th>\n",
       "      <td>2</td>\n",
       "      <td>qlPe6yb5rz</td>\n",
       "      <td>1.682491e+09</td>\n",
       "      <td>1.682491e+09</td>\n",
       "      <td>1</td>\n",
       "      <td>1570776802</td>\n",
       "      <td>0</td>\n",
       "      <td>simulado</td>\n",
       "      <td>0</td>\n",
       "      <td>2.0</td>\n",
       "      <td>-1.0</td>\n",
       "    </tr>\n",
       "    <tr>\n",
       "      <th>2</th>\n",
       "      <td>3</td>\n",
       "      <td>V1eK5nRwlo</td>\n",
       "      <td>1.682491e+09</td>\n",
       "      <td>1.682491e+09</td>\n",
       "      <td>1</td>\n",
       "      <td>1755113665</td>\n",
       "      <td>1</td>\n",
       "      <td>simulado</td>\n",
       "      <td>1</td>\n",
       "      <td>4.0</td>\n",
       "      <td>2.0</td>\n",
       "    </tr>\n",
       "    <tr>\n",
       "      <th>3</th>\n",
       "      <td>4</td>\n",
       "      <td>V1eK5nRwlo</td>\n",
       "      <td>1.682491e+09</td>\n",
       "      <td>1.682491e+09</td>\n",
       "      <td>1</td>\n",
       "      <td>1570776802</td>\n",
       "      <td>1</td>\n",
       "      <td>simulado</td>\n",
       "      <td>1</td>\n",
       "      <td>4.0</td>\n",
       "      <td>2.0</td>\n",
       "    </tr>\n",
       "    <tr>\n",
       "      <th>4</th>\n",
       "      <td>5</td>\n",
       "      <td>z1xQVy7Wkp</td>\n",
       "      <td>1.682491e+09</td>\n",
       "      <td>1.682491e+09</td>\n",
       "      <td>1</td>\n",
       "      <td>1755113665</td>\n",
       "      <td>0</td>\n",
       "      <td>simulado</td>\n",
       "      <td>0</td>\n",
       "      <td>2.0</td>\n",
       "      <td>-1.0</td>\n",
       "    </tr>\n",
       "    <tr>\n",
       "      <th>5</th>\n",
       "      <td>6</td>\n",
       "      <td>z1xQVy7Wkp</td>\n",
       "      <td>1.682491e+09</td>\n",
       "      <td>1.682491e+09</td>\n",
       "      <td>1</td>\n",
       "      <td>1570776802</td>\n",
       "      <td>0</td>\n",
       "      <td>simulado</td>\n",
       "      <td>0</td>\n",
       "      <td>2.0</td>\n",
       "      <td>-1.0</td>\n",
       "    </tr>\n",
       "    <tr>\n",
       "      <th>6</th>\n",
       "      <td>7</td>\n",
       "      <td>5k0LQxYmkY</td>\n",
       "      <td>1.682491e+09</td>\n",
       "      <td>1.682491e+09</td>\n",
       "      <td>1</td>\n",
       "      <td>1755113665</td>\n",
       "      <td>1</td>\n",
       "      <td>simulado</td>\n",
       "      <td>1</td>\n",
       "      <td>4.0</td>\n",
       "      <td>2.0</td>\n",
       "    </tr>\n",
       "    <tr>\n",
       "      <th>7</th>\n",
       "      <td>8</td>\n",
       "      <td>5k0LQxYmkY</td>\n",
       "      <td>1.682491e+09</td>\n",
       "      <td>1.682491e+09</td>\n",
       "      <td>1</td>\n",
       "      <td>1570776802</td>\n",
       "      <td>1</td>\n",
       "      <td>simulado</td>\n",
       "      <td>1</td>\n",
       "      <td>4.0</td>\n",
       "      <td>2.0</td>\n",
       "    </tr>\n",
       "    <tr>\n",
       "      <th>8</th>\n",
       "      <td>9</td>\n",
       "      <td>5k0LQxYmkY</td>\n",
       "      <td>1.682491e+09</td>\n",
       "      <td>1.682491e+09</td>\n",
       "      <td>1</td>\n",
       "      <td>1755113665</td>\n",
       "      <td>1</td>\n",
       "      <td>simulado</td>\n",
       "      <td>0</td>\n",
       "      <td>2.0</td>\n",
       "      <td>1.0</td>\n",
       "    </tr>\n",
       "    <tr>\n",
       "      <th>9</th>\n",
       "      <td>10</td>\n",
       "      <td>5k0LQxYmkY</td>\n",
       "      <td>1.682491e+09</td>\n",
       "      <td>1.682491e+09</td>\n",
       "      <td>1</td>\n",
       "      <td>1570776802</td>\n",
       "      <td>1</td>\n",
       "      <td>simulado</td>\n",
       "      <td>0</td>\n",
       "      <td>2.0</td>\n",
       "      <td>1.0</td>\n",
       "    </tr>\n",
       "  </tbody>\n",
       "</table>\n",
       "</div>"
      ],
      "text/plain": [
       "   id      ID_bet     timestamp  timestamp_signal  color      source  win   \n",
       "0   1  qlPe6yb5rz  1.682491e+09      1.682491e+09      1  1755113665    0  \\\n",
       "1   2  qlPe6yb5rz  1.682491e+09      1.682491e+09      1  1570776802    0   \n",
       "2   3  V1eK5nRwlo  1.682491e+09      1.682491e+09      1  1755113665    1   \n",
       "3   4  V1eK5nRwlo  1.682491e+09      1.682491e+09      1  1570776802    1   \n",
       "4   5  z1xQVy7Wkp  1.682491e+09      1.682491e+09      1  1755113665    0   \n",
       "5   6  z1xQVy7Wkp  1.682491e+09      1.682491e+09      1  1570776802    0   \n",
       "6   7  5k0LQxYmkY  1.682491e+09      1.682491e+09      1  1755113665    1   \n",
       "7   8  5k0LQxYmkY  1.682491e+09      1.682491e+09      1  1570776802    1   \n",
       "8   9  5k0LQxYmkY  1.682491e+09      1.682491e+09      1  1755113665    1   \n",
       "9  10  5k0LQxYmkY  1.682491e+09      1.682491e+09      1  1570776802    1   \n",
       "\n",
       "     status  gale  amount  balanceWin  \n",
       "0  simulado     0     2.0        -1.0  \n",
       "1  simulado     0     2.0        -1.0  \n",
       "2  simulado     1     4.0         2.0  \n",
       "3  simulado     1     4.0         2.0  \n",
       "4  simulado     0     2.0        -1.0  \n",
       "5  simulado     0     2.0        -1.0  \n",
       "6  simulado     1     4.0         2.0  \n",
       "7  simulado     1     4.0         2.0  \n",
       "8  simulado     0     2.0         1.0  \n",
       "9  simulado     0     2.0         1.0  "
      ]
     },
     "execution_count": 58,
     "metadata": {},
     "output_type": "execute_result"
    }
   ],
   "source": [
    "df.head(10)"
   ]
  },
  {
   "cell_type": "code",
   "execution_count": 59,
   "metadata": {},
   "outputs": [
    {
     "data": {
      "text/plain": [
       "8198"
      ]
     },
     "execution_count": 59,
     "metadata": {},
     "output_type": "execute_result"
    }
   ],
   "source": [
    "len(df)"
   ]
  },
  {
   "cell_type": "code",
   "execution_count": 52,
   "metadata": {},
   "outputs": [],
   "source": [
    "import mysql.connector\n",
    "from sqlalchemy import create_engine\n",
    "import pandas as pd\n",
    "\n",
    "# Define as informações de conexão\n",
    "config = {\n",
    "  'user': 'doispontos',\n",
    "  'password': 'cavaLO402b',\n",
    "  'host': 'brigos.com.br',\n",
    "  'database': 'source_double',\n",
    "  'port': 61690\n",
    "}\n",
    "\n",
    "# Cria a conexão com o banco de dados\n",
    "conn = mysql.connector.connect(**config)\n",
    "\n",
    "# Cria um objeto de conexão compatível com o método pd.read_sql()\n",
    "engine = create_engine(f\"mysql+mysqlconnector://{config['user']}:{config['password']}@{config['host']}:{config['port']}/{config['database']}\")\n",
    "\n",
    "# Define a consulta SQL\n",
    "query = 'SELECT * FROM source_double.api_gocontrolbetresult;'"
   ]
  },
  {
   "cell_type": "code",
   "execution_count": 54,
   "metadata": {},
   "outputs": [],
   "source": [
    "df = pd.read_sql(query, engine)\n",
    "df.head()\n",
    "# Fecha a conexão\n",
    "conn.close()"
   ]
  },
  {
   "cell_type": "code",
   "execution_count": 55,
   "metadata": {},
   "outputs": [
    {
     "data": {
      "text/plain": [
       "4151"
      ]
     },
     "execution_count": 55,
     "metadata": {},
     "output_type": "execute_result"
    }
   ],
   "source": [
    "len(df)"
   ]
  }
 ],
 "metadata": {
  "kernelspec": {
   "display_name": ".venv_pandas",
   "language": "python",
   "name": "python3"
  },
  "language_info": {
   "codemirror_mode": {
    "name": "ipython",
    "version": 3
   },
   "file_extension": ".py",
   "mimetype": "text/x-python",
   "name": "python",
   "nbconvert_exporter": "python",
   "pygments_lexer": "ipython3",
   "version": "3.9.2"
  },
  "orig_nbformat": 4
 },
 "nbformat": 4,
 "nbformat_minor": 2
}
